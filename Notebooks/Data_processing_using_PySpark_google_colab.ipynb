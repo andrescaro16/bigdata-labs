{
  "cells": [
    {
      "cell_type": "markdown",
      "metadata": {
        "id": "wseisywYN7ne"
      },
      "source": [
        "# Data Processing using Pyspark"
      ]
    },
    {
      "cell_type": "code",
      "execution_count": 2,
      "metadata": {
        "colab": {
          "base_uri": "https://localhost:8080/"
        },
        "id": "S2UoRHo3N7nj",
        "outputId": "50b60f8c-a673-434b-c963-5f312499e590"
      },
      "outputs": [
        {
          "name": "stdout",
          "output_type": "stream",
          "text": [
            "Mounted at /content/gdrive\n"
          ]
        }
      ],
      "source": [
        "#configuración en google colab de spark y pyspark\n",
        "from google.colab import drive\n",
        "drive.mount('/content/gdrive')"
      ]
    },
    {
      "cell_type": "code",
      "execution_count": 3,
      "metadata": {
        "id": "eKhya2MUN7nl"
      },
      "outputs": [],
      "source": [
        "#instalar java y spark\n",
        "!apt-get install openjdk-11-jdk-headless -qq > /dev/null\n",
        "!wget -q https://downloads.apache.org/spark/spark-3.5.1/spark-3.5.1-bin-hadoop3.tgz\n",
        "!tar xf spark-3.5.1-bin-hadoop3.tgz\n",
        "!pip install -q findspark"
      ]
    },
    {
      "cell_type": "code",
      "execution_count": 4,
      "metadata": {
        "id": "h9YG2_k3N7nm"
      },
      "outputs": [],
      "source": [
        "import os\n",
        "os.environ[\"JAVA_HOME\"] = \"/usr/lib/jvm/java-11-openjdk-amd64\"\n",
        "os.environ[\"SPARK_HOME\"] = \"/content/spark-3.5.1-bin-hadoop3\""
      ]
    },
    {
      "cell_type": "code",
      "execution_count": 5,
      "metadata": {
        "id": "zLXn3L3uN7nm"
      },
      "outputs": [],
      "source": [
        "import findspark\n",
        "findspark.init()\n",
        "from pyspark.sql import SparkSession\n",
        "spark = SparkSession.builder.master(\"local[*]\").getOrCreate()\n",
        "sc = spark.sparkContext"
      ]
    },
    {
      "cell_type": "code",
      "execution_count": 6,
      "metadata": {
        "colab": {
          "base_uri": "https://localhost:8080/",
          "height": 219
        },
        "id": "uO7NKm4gN7nn",
        "outputId": "36f8c701-25d4-4a12-c3eb-2abbe4fed4df"
      },
      "outputs": [
        {
          "data": {
            "text/html": [
              "\n",
              "            <div>\n",
              "                <p><b>SparkSession - in-memory</b></p>\n",
              "                \n",
              "        <div>\n",
              "            <p><b>SparkContext</b></p>\n",
              "\n",
              "            <p><a href=\"http://ad93192f2951:4040\">Spark UI</a></p>\n",
              "\n",
              "            <dl>\n",
              "              <dt>Version</dt>\n",
              "                <dd><code>v3.5.1</code></dd>\n",
              "              <dt>Master</dt>\n",
              "                <dd><code>local[*]</code></dd>\n",
              "              <dt>AppName</dt>\n",
              "                <dd><code>pyspark-shell</code></dd>\n",
              "            </dl>\n",
              "        </div>\n",
              "        \n",
              "            </div>\n",
              "        "
            ],
            "text/plain": [
              "<pyspark.sql.session.SparkSession at 0x7d102ae06170>"
            ]
          },
          "execution_count": 6,
          "metadata": {},
          "output_type": "execute_result"
        }
      ],
      "source": [
        "spark"
      ]
    },
    {
      "cell_type": "code",
      "execution_count": 7,
      "metadata": {
        "colab": {
          "base_uri": "https://localhost:8080/",
          "height": 196
        },
        "id": "A5sa2fAGN7nn",
        "outputId": "7fb02b12-a3ae-4055-ec16-50db962edee1"
      },
      "outputs": [
        {
          "data": {
            "text/html": [
              "\n",
              "        <div>\n",
              "            <p><b>SparkContext</b></p>\n",
              "\n",
              "            <p><a href=\"http://ad93192f2951:4040\">Spark UI</a></p>\n",
              "\n",
              "            <dl>\n",
              "              <dt>Version</dt>\n",
              "                <dd><code>v3.5.1</code></dd>\n",
              "              <dt>Master</dt>\n",
              "                <dd><code>local[*]</code></dd>\n",
              "              <dt>AppName</dt>\n",
              "                <dd><code>pyspark-shell</code></dd>\n",
              "            </dl>\n",
              "        </div>\n",
              "        "
            ],
            "text/plain": [
              "<SparkContext master=local[*] appName=pyspark-shell>"
            ]
          },
          "execution_count": 7,
          "metadata": {},
          "output_type": "execute_result"
        }
      ],
      "source": [
        "sc"
      ]
    },
    {
      "cell_type": "code",
      "execution_count": 9,
      "metadata": {
        "id": "EpH9vLfQN7nn"
      },
      "outputs": [],
      "source": [
        "# Load csv Dataset\n",
        "#df=spark.read.csv('s3://ajcarornotebooks/datasets/sample_data.csv',inferSchema=True,header=True)\n",
        "df=spark.read.csv('gdrive/MyDrive/datasets/sample_data.csv',inferSchema=True,header=True)"
      ]
    },
    {
      "cell_type": "code",
      "execution_count": 10,
      "metadata": {
        "colab": {
          "base_uri": "https://localhost:8080/"
        },
        "id": "QKLKdIwyN7no",
        "outputId": "de6b5d62-5eec-43c8-eef4-4a4f291cfb7f"
      },
      "outputs": [
        {
          "data": {
            "text/plain": [
              "['ratings', 'age', 'experience', 'family', 'mobile']"
            ]
          },
          "execution_count": 10,
          "metadata": {},
          "output_type": "execute_result"
        }
      ],
      "source": [
        "#columns of dataframe\n",
        "df.columns"
      ]
    },
    {
      "cell_type": "code",
      "execution_count": 11,
      "metadata": {
        "colab": {
          "base_uri": "https://localhost:8080/"
        },
        "id": "tB2zuqREN7no",
        "outputId": "ee3c5d21-c73d-4029-92e0-f7966b328e3b"
      },
      "outputs": [
        {
          "data": {
            "text/plain": [
              "5"
            ]
          },
          "execution_count": 11,
          "metadata": {},
          "output_type": "execute_result"
        }
      ],
      "source": [
        "#check number of columns\n",
        "len(df.columns)"
      ]
    },
    {
      "cell_type": "code",
      "execution_count": 12,
      "metadata": {
        "colab": {
          "base_uri": "https://localhost:8080/"
        },
        "id": "NiwAfv1pN7np",
        "outputId": "563edf71-2e63-4ca2-de35-ed20479ee424"
      },
      "outputs": [
        {
          "data": {
            "text/plain": [
              "33"
            ]
          },
          "execution_count": 12,
          "metadata": {},
          "output_type": "execute_result"
        }
      ],
      "source": [
        "#number of records in dataframe\n",
        "df.count()"
      ]
    },
    {
      "cell_type": "code",
      "execution_count": 13,
      "metadata": {
        "colab": {
          "base_uri": "https://localhost:8080/"
        },
        "id": "S07qc4-LN7np",
        "outputId": "3dd15b2a-6437-45a0-bd16-5c6c6af04ab6"
      },
      "outputs": [
        {
          "name": "stdout",
          "output_type": "stream",
          "text": [
            "(33, 5)\n"
          ]
        }
      ],
      "source": [
        "#shape of dataset\n",
        "print((df.count(),len(df.columns)))"
      ]
    },
    {
      "cell_type": "code",
      "execution_count": 14,
      "metadata": {
        "colab": {
          "base_uri": "https://localhost:8080/"
        },
        "id": "vRhhsrlnN7np",
        "outputId": "cd82f4d7-aabf-4256-ae87-2dc7182f3798"
      },
      "outputs": [
        {
          "name": "stdout",
          "output_type": "stream",
          "text": [
            "root\n",
            " |-- ratings: integer (nullable = true)\n",
            " |-- age: integer (nullable = true)\n",
            " |-- experience: double (nullable = true)\n",
            " |-- family: integer (nullable = true)\n",
            " |-- mobile: string (nullable = true)\n",
            "\n"
          ]
        }
      ],
      "source": [
        "#printSchema\n",
        "df.printSchema()"
      ]
    },
    {
      "cell_type": "code",
      "execution_count": 15,
      "metadata": {
        "colab": {
          "base_uri": "https://localhost:8080/"
        },
        "id": "toS6An7PN7np",
        "outputId": "86fdbb03-3860-4596-dbca-8694816759c7"
      },
      "outputs": [
        {
          "name": "stdout",
          "output_type": "stream",
          "text": [
            "+-------+---+----------+------+-------+\n",
            "|ratings|age|experience|family| mobile|\n",
            "+-------+---+----------+------+-------+\n",
            "|      3| 32|       9.0|     3|   Vivo|\n",
            "|      3| 27|      13.0|     3|  Apple|\n",
            "|      4| 22|       2.5|     0|Samsung|\n",
            "|      4| 37|      16.5|     4|  Apple|\n",
            "|      5| 27|       9.0|     1|     MI|\n",
            "+-------+---+----------+------+-------+\n",
            "only showing top 5 rows\n",
            "\n"
          ]
        }
      ],
      "source": [
        "#fisrt few rows of dataframe\n",
        "df.show(5)"
      ]
    },
    {
      "cell_type": "code",
      "execution_count": 16,
      "metadata": {
        "colab": {
          "base_uri": "https://localhost:8080/"
        },
        "id": "zRv84DK-N7np",
        "outputId": "a831f732-afa5-461c-de31-2a85bdb8af0f"
      },
      "outputs": [
        {
          "name": "stdout",
          "output_type": "stream",
          "text": [
            "+---+-------+\n",
            "|age| mobile|\n",
            "+---+-------+\n",
            "| 32|   Vivo|\n",
            "| 27|  Apple|\n",
            "| 22|Samsung|\n",
            "| 37|  Apple|\n",
            "| 27|     MI|\n",
            "+---+-------+\n",
            "only showing top 5 rows\n",
            "\n"
          ]
        }
      ],
      "source": [
        "#select only 2 columns\n",
        "df.select('age','mobile').show(5)"
      ]
    },
    {
      "cell_type": "code",
      "execution_count": 17,
      "metadata": {
        "colab": {
          "base_uri": "https://localhost:8080/"
        },
        "id": "l2xDEM3oN7np",
        "outputId": "fcf01614-83e3-46ce-e2f5-10af0a274e84"
      },
      "outputs": [
        {
          "name": "stdout",
          "output_type": "stream",
          "text": [
            "+-------+------------------+------------------+------------------+------------------+------+\n",
            "|summary|           ratings|               age|        experience|            family|mobile|\n",
            "+-------+------------------+------------------+------------------+------------------+------+\n",
            "|  count|                33|                33|                33|                33|    33|\n",
            "|   mean|3.5757575757575757|30.484848484848484|10.303030303030303|1.8181818181818181|  NULL|\n",
            "| stddev|1.1188806636071336|  6.18527087180309| 6.770731351213326|1.8448330794164254|  NULL|\n",
            "|    min|                 1|                22|               2.5|                 0| Apple|\n",
            "|    max|                 5|                42|              23.0|                 5|  Vivo|\n",
            "+-------+------------------+------------------+------------------+------------------+------+\n",
            "\n"
          ]
        }
      ],
      "source": [
        "#info about dataframe\n",
        "df.describe().show()"
      ]
    },
    {
      "cell_type": "code",
      "execution_count": 18,
      "metadata": {
        "id": "jXuf_hI5N7np"
      },
      "outputs": [],
      "source": [
        "from pyspark.sql.types import StringType,DoubleType,IntegerType"
      ]
    },
    {
      "cell_type": "code",
      "execution_count": 19,
      "metadata": {
        "colab": {
          "base_uri": "https://localhost:8080/"
        },
        "id": "HGZSHVyjN7np",
        "outputId": "fafd4216-f7f8-48eb-bb87-cbec48dd0b90"
      },
      "outputs": [
        {
          "name": "stdout",
          "output_type": "stream",
          "text": [
            "+-------+---+----------+------+-------+----------------+\n",
            "|ratings|age|experience|family|mobile |age_after_10_yrs|\n",
            "+-------+---+----------+------+-------+----------------+\n",
            "|3      |32 |9.0       |3     |Vivo   |42              |\n",
            "|3      |27 |13.0      |3     |Apple  |37              |\n",
            "|4      |22 |2.5       |0     |Samsung|32              |\n",
            "|4      |37 |16.5      |4     |Apple  |47              |\n",
            "|5      |27 |9.0       |1     |MI     |37              |\n",
            "|4      |27 |9.0       |0     |Oppo   |37              |\n",
            "|5      |37 |23.0      |5     |Vivo   |47              |\n",
            "|5      |37 |23.0      |5     |Samsung|47              |\n",
            "|3      |22 |2.5       |0     |Apple  |32              |\n",
            "|3      |27 |6.0       |0     |MI     |37              |\n",
            "+-------+---+----------+------+-------+----------------+\n",
            "only showing top 10 rows\n",
            "\n"
          ]
        }
      ],
      "source": [
        "#with column\n",
        "df.withColumn(\"age_after_10_yrs\",(df[\"age\"]+10)).show(10,False)"
      ]
    },
    {
      "cell_type": "code",
      "execution_count": 20,
      "metadata": {
        "colab": {
          "base_uri": "https://localhost:8080/"
        },
        "id": "EPyQJyYqN7nq",
        "outputId": "5583cce8-81ac-47a6-c75f-c7674b0ebf11"
      },
      "outputs": [
        {
          "name": "stdout",
          "output_type": "stream",
          "text": [
            "+-------+---+----------+------+-------+----------+\n",
            "|ratings|age|experience|family|mobile |age_double|\n",
            "+-------+---+----------+------+-------+----------+\n",
            "|3      |32 |9.0       |3     |Vivo   |32.0      |\n",
            "|3      |27 |13.0      |3     |Apple  |27.0      |\n",
            "|4      |22 |2.5       |0     |Samsung|22.0      |\n",
            "|4      |37 |16.5      |4     |Apple  |37.0      |\n",
            "|5      |27 |9.0       |1     |MI     |27.0      |\n",
            "|4      |27 |9.0       |0     |Oppo   |27.0      |\n",
            "|5      |37 |23.0      |5     |Vivo   |37.0      |\n",
            "|5      |37 |23.0      |5     |Samsung|37.0      |\n",
            "|3      |22 |2.5       |0     |Apple  |22.0      |\n",
            "|3      |27 |6.0       |0     |MI     |27.0      |\n",
            "+-------+---+----------+------+-------+----------+\n",
            "only showing top 10 rows\n",
            "\n"
          ]
        }
      ],
      "source": [
        "df.withColumn('age_double',df['age'].cast(DoubleType())).show(10,False)"
      ]
    },
    {
      "cell_type": "code",
      "execution_count": 21,
      "metadata": {
        "colab": {
          "base_uri": "https://localhost:8080/"
        },
        "id": "LWYEgz1GN7nq",
        "outputId": "b00ce7e3-987b-43d9-e8ef-4f1cbfad67ca"
      },
      "outputs": [
        {
          "name": "stdout",
          "output_type": "stream",
          "text": [
            "+-------+---+----------+------+-------+----------------+\n",
            "|ratings|age|experience|family|mobile |age_after_10_yrs|\n",
            "+-------+---+----------+------+-------+----------------+\n",
            "|3      |32 |9.0       |3     |Vivo   |42              |\n",
            "|3      |27 |13.0      |3     |Apple  |37              |\n",
            "|4      |22 |2.5       |0     |Samsung|32              |\n",
            "|4      |37 |16.5      |4     |Apple  |47              |\n",
            "|5      |27 |9.0       |1     |MI     |37              |\n",
            "|4      |27 |9.0       |0     |Oppo   |37              |\n",
            "|5      |37 |23.0      |5     |Vivo   |47              |\n",
            "|5      |37 |23.0      |5     |Samsung|47              |\n",
            "|3      |22 |2.5       |0     |Apple  |32              |\n",
            "|3      |27 |6.0       |0     |MI     |37              |\n",
            "+-------+---+----------+------+-------+----------------+\n",
            "only showing top 10 rows\n",
            "\n"
          ]
        }
      ],
      "source": [
        "#with column\n",
        "df.withColumn(\"age_after_10_yrs\",(df[\"age\"]+10)).show(10,False)"
      ]
    },
    {
      "cell_type": "code",
      "execution_count": 22,
      "metadata": {
        "colab": {
          "base_uri": "https://localhost:8080/"
        },
        "id": "2vDwhAeYN7nq",
        "outputId": "8723506a-be71-4edb-ff1a-4c41478074c2"
      },
      "outputs": [
        {
          "name": "stdout",
          "output_type": "stream",
          "text": [
            "+-------+---+----------+------+------+\n",
            "|ratings|age|experience|family|mobile|\n",
            "+-------+---+----------+------+------+\n",
            "|      3| 32|       9.0|     3|  Vivo|\n",
            "|      5| 37|      23.0|     5|  Vivo|\n",
            "|      4| 37|       6.0|     0|  Vivo|\n",
            "|      5| 37|      13.0|     1|  Vivo|\n",
            "|      4| 37|       6.0|     0|  Vivo|\n",
            "+-------+---+----------+------+------+\n",
            "\n"
          ]
        }
      ],
      "source": [
        "#filter the records\n",
        "df.filter(df['mobile']=='Vivo').show()"
      ]
    },
    {
      "cell_type": "code",
      "execution_count": 23,
      "metadata": {
        "colab": {
          "base_uri": "https://localhost:8080/"
        },
        "id": "8uTzlr4WN7nq",
        "outputId": "2f6e18f0-2bd1-461a-a015-27f07cd43689"
      },
      "outputs": [
        {
          "name": "stdout",
          "output_type": "stream",
          "text": [
            "+---+-------+------+\n",
            "|age|ratings|mobile|\n",
            "+---+-------+------+\n",
            "| 32|      3|  Vivo|\n",
            "| 37|      5|  Vivo|\n",
            "| 37|      4|  Vivo|\n",
            "| 37|      5|  Vivo|\n",
            "| 37|      4|  Vivo|\n",
            "+---+-------+------+\n",
            "\n"
          ]
        }
      ],
      "source": [
        "#filter the records\n",
        "df.filter(df['mobile']=='Vivo').select('age','ratings','mobile').show()"
      ]
    },
    {
      "cell_type": "code",
      "execution_count": 24,
      "metadata": {
        "colab": {
          "base_uri": "https://localhost:8080/"
        },
        "id": "tmt6EU-GN7nq",
        "outputId": "db78e22e-6f91-44a0-9dba-aca86e1a65ad"
      },
      "outputs": [
        {
          "name": "stdout",
          "output_type": "stream",
          "text": [
            "+-------+---+----------+------+------+\n",
            "|ratings|age|experience|family|mobile|\n",
            "+-------+---+----------+------+------+\n",
            "|      5| 37|      23.0|     5|  Vivo|\n",
            "|      5| 37|      13.0|     1|  Vivo|\n",
            "+-------+---+----------+------+------+\n",
            "\n"
          ]
        }
      ],
      "source": [
        "#filter the multiple conditions\n",
        "df.filter(df['mobile']=='Vivo').filter(df['experience'] >10).show()"
      ]
    },
    {
      "cell_type": "code",
      "execution_count": 25,
      "metadata": {
        "colab": {
          "base_uri": "https://localhost:8080/"
        },
        "id": "h5sz1XrNN7nr",
        "outputId": "6777d10b-ab3d-4730-b912-97a398b58c30"
      },
      "outputs": [
        {
          "name": "stdout",
          "output_type": "stream",
          "text": [
            "+-------+---+----------+------+------+\n",
            "|ratings|age|experience|family|mobile|\n",
            "+-------+---+----------+------+------+\n",
            "|      5| 37|      23.0|     5|  Vivo|\n",
            "|      5| 37|      13.0|     1|  Vivo|\n",
            "+-------+---+----------+------+------+\n",
            "\n"
          ]
        }
      ],
      "source": [
        "#filter the multiple conditions\n",
        "df.filter((df['mobile']=='Vivo')&(df['experience'] >10)).show()"
      ]
    },
    {
      "cell_type": "code",
      "execution_count": 26,
      "metadata": {
        "colab": {
          "base_uri": "https://localhost:8080/"
        },
        "id": "dQs3S6NWN7nr",
        "outputId": "9bb6dc93-d5b7-4ded-a0c2-d501ee7eef34"
      },
      "outputs": [
        {
          "name": "stdout",
          "output_type": "stream",
          "text": [
            "+-------+\n",
            "| mobile|\n",
            "+-------+\n",
            "|     MI|\n",
            "|   Oppo|\n",
            "|Samsung|\n",
            "|   Vivo|\n",
            "|  Apple|\n",
            "+-------+\n",
            "\n"
          ]
        }
      ],
      "source": [
        "#Distinct Values in a column\n",
        "df.select('mobile').distinct().show()"
      ]
    },
    {
      "cell_type": "code",
      "execution_count": 27,
      "metadata": {
        "colab": {
          "base_uri": "https://localhost:8080/"
        },
        "id": "VNsCX1fkN7nr",
        "outputId": "bfb984bd-995e-433b-b3ac-ec71c86946b2"
      },
      "outputs": [
        {
          "data": {
            "text/plain": [
              "5"
            ]
          },
          "execution_count": 27,
          "metadata": {},
          "output_type": "execute_result"
        }
      ],
      "source": [
        "#distinct value count\n",
        "df.select('mobile').distinct().count()"
      ]
    },
    {
      "cell_type": "code",
      "execution_count": 28,
      "metadata": {
        "colab": {
          "base_uri": "https://localhost:8080/"
        },
        "id": "EjKP6swoN7nr",
        "outputId": "c647bb8d-6d29-41cf-a3a0-f90ebf086bf3"
      },
      "outputs": [
        {
          "name": "stdout",
          "output_type": "stream",
          "text": [
            "+-------+-----+\n",
            "|mobile |count|\n",
            "+-------+-----+\n",
            "|MI     |8    |\n",
            "|Oppo   |7    |\n",
            "|Samsung|6    |\n",
            "|Vivo   |5    |\n",
            "|Apple  |7    |\n",
            "+-------+-----+\n",
            "\n"
          ]
        }
      ],
      "source": [
        "df.groupBy('mobile').count().show(5,False)"
      ]
    },
    {
      "cell_type": "code",
      "execution_count": 29,
      "metadata": {
        "colab": {
          "base_uri": "https://localhost:8080/"
        },
        "id": "NnQEf7QVN7nr",
        "outputId": "a167241b-1c28-4eb9-cdb5-fef9b0cc81db"
      },
      "outputs": [
        {
          "name": "stdout",
          "output_type": "stream",
          "text": [
            "+-------+-----+\n",
            "|mobile |count|\n",
            "+-------+-----+\n",
            "|MI     |8    |\n",
            "|Oppo   |7    |\n",
            "|Apple  |7    |\n",
            "|Samsung|6    |\n",
            "|Vivo   |5    |\n",
            "+-------+-----+\n",
            "\n"
          ]
        }
      ],
      "source": [
        "# Value counts\n",
        "df.groupBy('mobile').count().orderBy('count',ascending=False).show(5,False)"
      ]
    },
    {
      "cell_type": "code",
      "execution_count": 30,
      "metadata": {
        "colab": {
          "base_uri": "https://localhost:8080/"
        },
        "id": "sL8aMvErN7nr",
        "outputId": "86cf78ea-2fe7-4a51-9567-5488359ca08f"
      },
      "outputs": [
        {
          "name": "stdout",
          "output_type": "stream",
          "text": [
            "+-------+------------------+------------------+------------------+------------------+\n",
            "|mobile |avg(ratings)      |avg(age)          |avg(experience)   |avg(family)       |\n",
            "+-------+------------------+------------------+------------------+------------------+\n",
            "|MI     |3.5               |30.125            |10.1875           |1.375             |\n",
            "|Oppo   |2.857142857142857 |28.428571428571427|10.357142857142858|1.4285714285714286|\n",
            "|Samsung|4.166666666666667 |28.666666666666668|8.666666666666666 |1.8333333333333333|\n",
            "|Vivo   |4.2               |36.0              |11.4              |1.8               |\n",
            "|Apple  |3.4285714285714284|30.571428571428573|11.0              |2.7142857142857144|\n",
            "+-------+------------------+------------------+------------------+------------------+\n",
            "\n"
          ]
        }
      ],
      "source": [
        "# Value counts\n",
        "df.groupBy('mobile').mean().show(5,False)"
      ]
    },
    {
      "cell_type": "code",
      "execution_count": 31,
      "metadata": {
        "colab": {
          "base_uri": "https://localhost:8080/"
        },
        "id": "V68rQCs0N7nr",
        "outputId": "86ff5304-bf52-468d-acbb-c664acf1f10a"
      },
      "outputs": [
        {
          "name": "stdout",
          "output_type": "stream",
          "text": [
            "+-------+------------+--------+---------------+-----------+\n",
            "|mobile |sum(ratings)|sum(age)|sum(experience)|sum(family)|\n",
            "+-------+------------+--------+---------------+-----------+\n",
            "|MI     |28          |241     |81.5           |11         |\n",
            "|Oppo   |20          |199     |72.5           |10         |\n",
            "|Samsung|25          |172     |52.0           |11         |\n",
            "|Vivo   |21          |180     |57.0           |9          |\n",
            "|Apple  |24          |214     |77.0           |19         |\n",
            "+-------+------------+--------+---------------+-----------+\n",
            "\n"
          ]
        }
      ],
      "source": [
        "df.groupBy('mobile').sum().show(5,False)"
      ]
    },
    {
      "cell_type": "code",
      "execution_count": 32,
      "metadata": {
        "colab": {
          "base_uri": "https://localhost:8080/"
        },
        "id": "erDecv6uN7ns",
        "outputId": "21de7697-e00a-4e9d-a7db-4311fbcd1027"
      },
      "outputs": [
        {
          "name": "stdout",
          "output_type": "stream",
          "text": [
            "+-------+------------+--------+---------------+-----------+\n",
            "|mobile |max(ratings)|max(age)|max(experience)|max(family)|\n",
            "+-------+------------+--------+---------------+-----------+\n",
            "|MI     |5           |42      |23.0           |5          |\n",
            "|Oppo   |4           |42      |23.0           |2          |\n",
            "|Samsung|5           |37      |23.0           |5          |\n",
            "|Vivo   |5           |37      |23.0           |5          |\n",
            "|Apple  |4           |37      |16.5           |5          |\n",
            "+-------+------------+--------+---------------+-----------+\n",
            "\n"
          ]
        }
      ],
      "source": [
        "# Value counts\n",
        "df.groupBy('mobile').max().show(5,False)"
      ]
    },
    {
      "cell_type": "code",
      "execution_count": 33,
      "metadata": {
        "colab": {
          "base_uri": "https://localhost:8080/"
        },
        "id": "DjEwjSLgN7ns",
        "outputId": "38b2b7d8-4036-48c0-bc27-b0866f18bde7"
      },
      "outputs": [
        {
          "name": "stdout",
          "output_type": "stream",
          "text": [
            "+-------+------------+--------+---------------+-----------+\n",
            "|mobile |min(ratings)|min(age)|min(experience)|min(family)|\n",
            "+-------+------------+--------+---------------+-----------+\n",
            "|MI     |1           |27      |2.5            |0          |\n",
            "|Oppo   |2           |22      |6.0            |0          |\n",
            "|Samsung|2           |22      |2.5            |0          |\n",
            "|Vivo   |3           |32      |6.0            |0          |\n",
            "|Apple  |3           |22      |2.5            |0          |\n",
            "+-------+------------+--------+---------------+-----------+\n",
            "\n"
          ]
        }
      ],
      "source": [
        "# Value counts\n",
        "df.groupBy('mobile').min().show(5,False)"
      ]
    },
    {
      "cell_type": "code",
      "execution_count": 34,
      "metadata": {
        "colab": {
          "base_uri": "https://localhost:8080/"
        },
        "id": "wXHJ8e0zN7ns",
        "outputId": "67820546-aae9-4ba0-a280-aa24aa394ab4"
      },
      "outputs": [
        {
          "name": "stdout",
          "output_type": "stream",
          "text": [
            "+-------+---------------+\n",
            "|mobile |sum(experience)|\n",
            "+-------+---------------+\n",
            "|MI     |81.5           |\n",
            "|Oppo   |72.5           |\n",
            "|Samsung|52.0           |\n",
            "|Vivo   |57.0           |\n",
            "|Apple  |77.0           |\n",
            "+-------+---------------+\n",
            "\n"
          ]
        }
      ],
      "source": [
        "#Aggregation\n",
        "df.groupBy('mobile').agg({'experience':'sum'}).show(5,False)"
      ]
    },
    {
      "cell_type": "code",
      "execution_count": 35,
      "metadata": {
        "id": "tHv5vI9iN7ns"
      },
      "outputs": [],
      "source": [
        "# UDF\n",
        "from pyspark.sql.functions import udf\n"
      ]
    },
    {
      "cell_type": "code",
      "execution_count": 36,
      "metadata": {
        "id": "O9tTDiGcN7ns"
      },
      "outputs": [],
      "source": [
        "#normal function\n",
        "def price_range(brand):\n",
        "    if brand in ['Samsung','Apple']:\n",
        "        return 'High Price'\n",
        "    elif brand =='MI':\n",
        "        return 'Mid Price'\n",
        "    else:\n",
        "        return 'Low Price'"
      ]
    },
    {
      "cell_type": "code",
      "execution_count": 37,
      "metadata": {
        "colab": {
          "base_uri": "https://localhost:8080/"
        },
        "id": "x05bPC07N7ns",
        "outputId": "d13aba8f-a9e6-4a9a-914c-df0409ffde7f"
      },
      "outputs": [
        {
          "name": "stdout",
          "output_type": "stream",
          "text": [
            "+-------+---+----------+------+-------+-----------+\n",
            "|ratings|age|experience|family|mobile |price_range|\n",
            "+-------+---+----------+------+-------+-----------+\n",
            "|3      |32 |9.0       |3     |Vivo   |Low Price  |\n",
            "|3      |27 |13.0      |3     |Apple  |High Price |\n",
            "|4      |22 |2.5       |0     |Samsung|High Price |\n",
            "|4      |37 |16.5      |4     |Apple  |High Price |\n",
            "|5      |27 |9.0       |1     |MI     |Mid Price  |\n",
            "|4      |27 |9.0       |0     |Oppo   |Low Price  |\n",
            "|5      |37 |23.0      |5     |Vivo   |Low Price  |\n",
            "|5      |37 |23.0      |5     |Samsung|High Price |\n",
            "|3      |22 |2.5       |0     |Apple  |High Price |\n",
            "|3      |27 |6.0       |0     |MI     |Mid Price  |\n",
            "+-------+---+----------+------+-------+-----------+\n",
            "only showing top 10 rows\n",
            "\n"
          ]
        }
      ],
      "source": [
        "#create udf using python function\n",
        "brand_udf=udf(price_range,StringType())\n",
        "#apply udf on dataframe\n",
        "df.withColumn('price_range',brand_udf(df['mobile'])).show(10,False)"
      ]
    },
    {
      "cell_type": "code",
      "execution_count": 38,
      "metadata": {
        "colab": {
          "base_uri": "https://localhost:8080/"
        },
        "id": "6dujcHFwN7nt",
        "outputId": "e4ba0d9c-f216-4722-b631-a6e1c12494fc"
      },
      "outputs": [
        {
          "name": "stdout",
          "output_type": "stream",
          "text": [
            "+-------+---+----------+------+-------+---------+\n",
            "|ratings|age|experience|family|mobile |age_group|\n",
            "+-------+---+----------+------+-------+---------+\n",
            "|3      |32 |9.0       |3     |Vivo   |senior   |\n",
            "|3      |27 |13.0      |3     |Apple  |young    |\n",
            "|4      |22 |2.5       |0     |Samsung|young    |\n",
            "|4      |37 |16.5      |4     |Apple  |senior   |\n",
            "|5      |27 |9.0       |1     |MI     |young    |\n",
            "|4      |27 |9.0       |0     |Oppo   |young    |\n",
            "|5      |37 |23.0      |5     |Vivo   |senior   |\n",
            "|5      |37 |23.0      |5     |Samsung|senior   |\n",
            "|3      |22 |2.5       |0     |Apple  |young    |\n",
            "|3      |27 |6.0       |0     |MI     |young    |\n",
            "+-------+---+----------+------+-------+---------+\n",
            "only showing top 10 rows\n",
            "\n"
          ]
        }
      ],
      "source": [
        "#using lambda function\n",
        "age_udf = udf(lambda age: \"young\" if age <= 30 else \"senior\", StringType())\n",
        "#apply udf on dataframe\n",
        "df.withColumn(\"age_group\", age_udf(df.age)).show(10,False)"
      ]
    },
    {
      "cell_type": "code",
      "execution_count": 39,
      "metadata": {
        "id": "hMAZDWUqN7nt"
      },
      "outputs": [],
      "source": [
        "#pandas udf\n",
        "from pyspark.sql.functions import pandas_udf, PandasUDFType"
      ]
    },
    {
      "cell_type": "code",
      "execution_count": 40,
      "metadata": {
        "id": "9pJLuyegN7nt"
      },
      "outputs": [],
      "source": [
        "#create python function\n",
        "def remaining_yrs(age):\n",
        "    yrs_left=100-age\n",
        "\n",
        "    return yrs_left"
      ]
    },
    {
      "cell_type": "code",
      "execution_count": 41,
      "metadata": {
        "colab": {
          "base_uri": "https://localhost:8080/"
        },
        "id": "HaiYxzHiN7nz",
        "outputId": "b7541c75-ee66-4cb5-8688-d03f4451a67c"
      },
      "outputs": [
        {
          "name": "stdout",
          "output_type": "stream",
          "text": [
            "+-------+---+----------+------+-------+--------+\n",
            "|ratings|age|experience|family|mobile |yrs_left|\n",
            "+-------+---+----------+------+-------+--------+\n",
            "|3      |32 |9.0       |3     |Vivo   |68      |\n",
            "|3      |27 |13.0      |3     |Apple  |73      |\n",
            "|4      |22 |2.5       |0     |Samsung|78      |\n",
            "|4      |37 |16.5      |4     |Apple  |63      |\n",
            "|5      |27 |9.0       |1     |MI     |73      |\n",
            "|4      |27 |9.0       |0     |Oppo   |73      |\n",
            "|5      |37 |23.0      |5     |Vivo   |63      |\n",
            "|5      |37 |23.0      |5     |Samsung|63      |\n",
            "|3      |22 |2.5       |0     |Apple  |78      |\n",
            "|3      |27 |6.0       |0     |MI     |73      |\n",
            "+-------+---+----------+------+-------+--------+\n",
            "only showing top 10 rows\n",
            "\n"
          ]
        }
      ],
      "source": [
        "#create udf using python function\n",
        "length_udf = pandas_udf(remaining_yrs, IntegerType())\n",
        "#apply pandas udf on dataframe\n",
        "df.withColumn(\"yrs_left\", length_udf(df['age'])).show(10,False)"
      ]
    },
    {
      "cell_type": "code",
      "execution_count": 42,
      "metadata": {
        "id": "o9yOvcmFN7nz"
      },
      "outputs": [],
      "source": [
        "#udf using two columns\n",
        "def prod(rating,exp):\n",
        "    x=rating*exp\n",
        "    return x"
      ]
    },
    {
      "cell_type": "code",
      "execution_count": 43,
      "metadata": {
        "colab": {
          "base_uri": "https://localhost:8080/"
        },
        "id": "5mfkVfHUN7nz",
        "outputId": "fa671960-e307-4c58-df95-a684e56591af"
      },
      "outputs": [
        {
          "name": "stdout",
          "output_type": "stream",
          "text": [
            "+-------+---+----------+------+-------+-------+\n",
            "|ratings|age|experience|family|mobile |product|\n",
            "+-------+---+----------+------+-------+-------+\n",
            "|3      |32 |9.0       |3     |Vivo   |27.0   |\n",
            "|3      |27 |13.0      |3     |Apple  |39.0   |\n",
            "|4      |22 |2.5       |0     |Samsung|10.0   |\n",
            "|4      |37 |16.5      |4     |Apple  |66.0   |\n",
            "|5      |27 |9.0       |1     |MI     |45.0   |\n",
            "|4      |27 |9.0       |0     |Oppo   |36.0   |\n",
            "|5      |37 |23.0      |5     |Vivo   |115.0  |\n",
            "|5      |37 |23.0      |5     |Samsung|115.0  |\n",
            "|3      |22 |2.5       |0     |Apple  |7.5    |\n",
            "|3      |27 |6.0       |0     |MI     |18.0   |\n",
            "+-------+---+----------+------+-------+-------+\n",
            "only showing top 10 rows\n",
            "\n"
          ]
        }
      ],
      "source": [
        "#create udf using python function\n",
        "prod_udf = pandas_udf(prod, DoubleType())\n",
        "#apply pandas udf on multiple columns of dataframe\n",
        "df.withColumn(\"product\", prod_udf(df['ratings'],df['experience'])).show(10,False)"
      ]
    },
    {
      "cell_type": "code",
      "execution_count": 44,
      "metadata": {
        "colab": {
          "base_uri": "https://localhost:8080/"
        },
        "id": "m8uwVSG7N7nz",
        "outputId": "79cc94e5-ca02-447f-ded0-476ad88ff869"
      },
      "outputs": [
        {
          "data": {
            "text/plain": [
              "33"
            ]
          },
          "execution_count": 44,
          "metadata": {},
          "output_type": "execute_result"
        }
      ],
      "source": [
        "#duplicate values\n",
        "df.count()"
      ]
    },
    {
      "cell_type": "code",
      "execution_count": 45,
      "metadata": {
        "id": "4qxpa1p6N7nz"
      },
      "outputs": [],
      "source": [
        "#drop duplicate values\n",
        "df=df.dropDuplicates()"
      ]
    },
    {
      "cell_type": "code",
      "execution_count": 46,
      "metadata": {
        "colab": {
          "base_uri": "https://localhost:8080/"
        },
        "id": "yB39sxLiN7nz",
        "outputId": "a162a851-fb99-41a0-fa5a-393baf770115"
      },
      "outputs": [
        {
          "data": {
            "text/plain": [
              "26"
            ]
          },
          "execution_count": 46,
          "metadata": {},
          "output_type": "execute_result"
        }
      ],
      "source": [
        "#validate new count\n",
        "df.count()"
      ]
    },
    {
      "cell_type": "code",
      "execution_count": 47,
      "metadata": {
        "id": "f15Q6kpvN7nz"
      },
      "outputs": [],
      "source": [
        "#drop column of dataframe\n",
        "df_new=df.drop('mobile')"
      ]
    },
    {
      "cell_type": "code",
      "execution_count": 48,
      "metadata": {
        "colab": {
          "base_uri": "https://localhost:8080/"
        },
        "id": "LslsazlWN7n0",
        "outputId": "df8c65bd-7f6f-4732-9c7e-d47e5db99db7"
      },
      "outputs": [
        {
          "name": "stdout",
          "output_type": "stream",
          "text": [
            "+-------+---+----------+------+\n",
            "|ratings|age|experience|family|\n",
            "+-------+---+----------+------+\n",
            "|      3| 32|       9.0|     3|\n",
            "|      4| 22|       2.5|     0|\n",
            "|      5| 27|       6.0|     0|\n",
            "|      4| 22|       6.0|     1|\n",
            "|      3| 27|       6.0|     0|\n",
            "|      2| 32|      16.5|     2|\n",
            "|      4| 27|       9.0|     0|\n",
            "|      2| 27|       9.0|     2|\n",
            "|      3| 37|      16.5|     5|\n",
            "|      4| 27|       6.0|     1|\n",
            "+-------+---+----------+------+\n",
            "only showing top 10 rows\n",
            "\n"
          ]
        }
      ],
      "source": [
        "df_new.show(10)"
      ]
    },
    {
      "cell_type": "code",
      "execution_count": null,
      "metadata": {
        "id": "-FiDOJT8N7n0"
      },
      "outputs": [],
      "source": [
        "# saving file (csv)"
      ]
    },
    {
      "cell_type": "code",
      "execution_count": 50,
      "metadata": {
        "colab": {
          "base_uri": "https://localhost:8080/"
        },
        "id": "jUMXw-HON7n0",
        "outputId": "1bd521f7-d4cd-4537-ef43-ad9abe6c9c1e"
      },
      "outputs": [
        {
          "name": "stdout",
          "output_type": "stream",
          "text": [
            "/content\n"
          ]
        }
      ],
      "source": [
        "#current working directory\n",
        "!pwd"
      ]
    },
    {
      "cell_type": "code",
      "execution_count": 51,
      "metadata": {
        "id": "VoNV8ZXkN7n0"
      },
      "outputs": [],
      "source": [
        "#target directory\n",
        "write_uri='s3://ajcarornotebooks/datasets/df_csv_colab'"
      ]
    },
    {
      "cell_type": "code",
      "execution_count": null,
      "metadata": {
        "id": "1LXCJwNCS7ll"
      },
      "outputs": [],
      "source": [
        "#save the dataframe as single csv\n",
        "df.coalesce(1).write.format(\"csv\").option(\"header\",\"true\").save(write_uri)"
      ]
    },
    {
      "cell_type": "code",
      "execution_count": null,
      "metadata": {
        "id": "jvsF0YWTN7n0"
      },
      "outputs": [],
      "source": [
        "# parquet"
      ]
    },
    {
      "cell_type": "code",
      "execution_count": null,
      "metadata": {
        "id": "C5IIxoA6N7n0"
      },
      "outputs": [],
      "source": [
        "#target location\n",
        "parquet_uri='s3://ajcarornotebooks/datasets/df_parquet_colab'"
      ]
    },
    {
      "cell_type": "code",
      "execution_count": null,
      "metadata": {
        "id": "XHLPHLoNN7n0"
      },
      "outputs": [],
      "source": [
        "#save the data into parquet format\n",
        "df.write.format('parquet').save(parquet_uri)"
      ]
    }
  ],
  "metadata": {
    "colab": {
      "provenance": []
    },
    "kernelspec": {
      "display_name": "Python 3.10.8 64-bit",
      "language": "python",
      "name": "python3"
    },
    "language_info": {
      "codemirror_mode": {
        "name": "ipython",
        "version": 3
      },
      "file_extension": ".py",
      "mimetype": "text/x-python",
      "name": "python",
      "nbconvert_exporter": "python",
      "pygments_lexer": "ipython3",
      "version": "3.10.8"
    },
    "vscode": {
      "interpreter": {
        "hash": "aee8b7b246df8f9039afb4144a1f6fd8d2ca17a180786b69acc140d282b71a49"
      }
    }
  },
  "nbformat": 4,
  "nbformat_minor": 0
}
